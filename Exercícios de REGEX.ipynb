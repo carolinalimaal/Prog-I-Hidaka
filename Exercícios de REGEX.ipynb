{
 "cells": [
  {
   "cell_type": "code",
   "execution_count": 2,
   "metadata": {},
   "outputs": [
    {
     "name": "stdout",
     "output_type": "stream",
     "text": [
      "None\n"
     ]
    }
   ],
   "source": [
    "import re\n",
    "\n",
    "def verificarSeqDeA(mensagem):\n",
    "    regex = re.search(r'[Aa]+', mensagem)\n",
    "    if len(regex.group()) % 2 == 0:\n",
    "        return regex.group()\n",
    "\n",
    "teste = verificarSeqDeA('aaa')\n",
    "print(teste)"
   ]
  },
  {
   "cell_type": "code",
   "execution_count": 3,
   "metadata": {},
   "outputs": [
    {
     "name": "stdout",
     "output_type": "stream",
     "text": [
      " Carolina de Lima Alves \n"
     ]
    }
   ],
   "source": [
    "def limparString(mensagem):\n",
    "    regex = re.sub(r'[^A-Z a-z]', '', mensagem)\n",
    "    return regex\n",
    "\n",
    "teste = limparString('07072005 Carolina de Lima Alves 100')\n",
    "print(teste)"
   ]
  },
  {
   "cell_type": "code",
   "execution_count": 58,
   "metadata": {},
   "outputs": [
    {
     "name": "stdout",
     "output_type": "stream",
     "text": [
      "Sua senha é muito forte!\n"
     ]
    }
   ],
   "source": [
    "import re\n",
    "def muitoForte(senha):\n",
    "    return len(senha) >= 10 and\\\n",
    "            re.search(r'[A-Z]', senha) and\\\n",
    "            re.search(r'[a-z]', senha) and\\\n",
    "            re.search(r'[0-9]', senha) and\\\n",
    "            re.search(r'.*[!@#$%&].*[!@#$%&].*[!@#$%&]', senha)\n",
    "\n",
    "def forte(senha):\n",
    "    return len(senha) >=8 and\\\n",
    "            re.search(r'[A-Z]', senha) and\\\n",
    "            re.search(r'[a-z]', senha) and\\\n",
    "            re.search(r'[0-9]', senha) and\\\n",
    "            re.search(r'[!@#$%&*=+]', senha)\n",
    "\n",
    "def media(senha):\n",
    "    return len(senha) >= 6 and\\\n",
    "            re.search(r'[A-Z]', senha) and\\\n",
    "            re.search(r'[a-z]', senha) and\\\n",
    "            re.search(r'[0-9]', senha)\n",
    "\n",
    "def fraca(senha):\n",
    "    return len(senha) >= 6\n",
    "\n",
    "def main():\n",
    "    senha = input('Insira sua senha: ')\n",
    "    if muitoForte(senha):\n",
    "        print('Sua senha é muito forte!')\n",
    "    elif forte(senha):\n",
    "        print('Sua senha é forte!')\n",
    "    elif media(senha):\n",
    "        print('Sua senha é média!')\n",
    "    elif fraca(senha):\n",
    "        print('Sua senha é fraca!')\n",
    "    else:\n",
    "        print('Sua senha é inválida!')\n",
    "\n",
    "main()"
   ]
  },
  {
   "cell_type": "code",
   "execution_count": 22,
   "metadata": {},
   "outputs": [
    {
     "name": "stdout",
     "output_type": "stream",
     "text": [
      "Seu telefone é válido.\n"
     ]
    }
   ],
   "source": [
    "import re\n",
    "\n",
    "def verificarTelefone(telefone):\n",
    "    return re.fullmatch(r'\\(\\d{2}\\)\\s9\\d{4}-\\d{4}', telefone) or re.fullmatch(r'\\(\\d{2}\\)\\s9\\d{4}\\d{4}', telefone) or\\\n",
    "            re.fullmatch(r'9\\d{4}-\\d{4}', telefone) or re.fullmatch(r'9\\d{4}\\d{4}', telefone)\n",
    "\n",
    "def main():\n",
    "    tel = input('Insira seu número de telefone: ')\n",
    "    if verificarTelefone(tel):\n",
    "        print('Seu telefone é válido.')\n",
    "    else:\n",
    "        print('Seu telefone não é válido.')\n",
    "\n",
    "main()"
   ]
  },
  {
   "cell_type": "code",
   "execution_count": 71,
   "metadata": {},
   "outputs": [
    {
     "name": "stdout",
     "output_type": "stream",
     "text": [
      "11000000000101010101 está no padrão.\n"
     ]
    }
   ],
   "source": [
    "import re\n",
    "\n",
    "def verificarBinario(sequencia):\n",
    "    return re.fullmatch('[01]+', sequencia) and re.search('.*1.*1.*1', sequencia)\n",
    "\n",
    "def main():\n",
    "    seq = input('Digite uma sequencia binária: ')\n",
    "    if verificarBinario(seq):\n",
    "        print(f'{seq} está no padrão.')\n",
    "    else:\n",
    "        print(f'{seq} não está no padrão.')\n",
    "\n",
    "main()"
   ]
  },
  {
   "cell_type": "code",
   "execution_count": 152,
   "metadata": {},
   "outputs": [
    {
     "name": "stdout",
     "output_type": "stream",
     "text": [
      "10100101010001 está no padrão.\n"
     ]
    }
   ],
   "source": [
    "import re\n",
    "\n",
    "def verificarPadraoBinario(sequencia):\n",
    "    return re.fullmatch('[01]+', sequencia) and not re.search('11', sequencia)\n",
    "\n",
    "def main():\n",
    "    seq = input('Digite uma sequencia binária: ')\n",
    "    if verificarPadraoBinario(seq):\n",
    "        print(f'{seq} está no padrão.')\n",
    "    else:\n",
    "        print(f'{seq} não está no padrão.')\n",
    "\n",
    "main()\n",
    "    "
   ]
  },
  {
   "cell_type": "code",
   "execution_count": 10,
   "metadata": {},
   "outputs": [
    {
     "name": "stdout",
     "output_type": "stream",
     "text": [
      "[(0, 2), (0, 2)]\n"
     ]
    }
   ],
   "source": [
    "import re \n",
    "\n",
    "def verificarSifrao(lista):\n",
    "    lista_real = []\n",
    "    for item in lista:\n",
    "        regex = re.match('R\\$', item)\n",
    "        if regex:\n",
    "            lista_real.append(regex.span())\n",
    "    return lista_real\n",
    "\n",
    "lista = ['R$120,00', 'US$10,00', 'R$100,00']\n",
    "print(verificarSifrao(lista))"
   ]
  },
  {
   "cell_type": "code",
   "execution_count": 41,
   "metadata": {},
   "outputs": [
    {
     "name": "stdout",
     "output_type": "stream",
     "text": [
      "Operação no padräo.\n",
      "Operação no padräo.\n",
      "Operação no padräo.\n",
      "Operação no padräo.\n"
     ]
    }
   ],
   "source": [
    "import re\n",
    "\n",
    "def verificarOperacoes(msg):\n",
    "    regex = re.fullmatch(r'[0-9]\\s[+-/\\*]\\s[0-9]', msg) \n",
    "    if regex:\n",
    "        print('Operação no padräo.')\n",
    "    else:\n",
    "        print('Operação não está no padrão.')\n",
    "\n",
    "verificarOperacoes('9 + 0')\n",
    "verificarOperacoes('7 - 2')\n",
    "verificarOperacoes('2 * 4')\n",
    "verificarOperacoes('3 / 7')"
   ]
  },
  {
   "cell_type": "code",
   "execution_count": 46,
   "metadata": {},
   "outputs": [
    {
     "name": "stdout",
     "output_type": "stream",
     "text": [
      "nop\n",
      "nop\n"
     ]
    }
   ],
   "source": [
    "import re\n",
    "\n",
    "def encontrarIniciaisMaiusculas(msg):\n",
    "    regex = re.search('', msg)\n",
    "    if regex:\n",
    "        print('ok')\n",
    "    else:\n",
    "        print('nop')\n",
    "\n",
    "encontrarIniciaisMaiusculas('Carolina')\n",
    "encontrarIniciaisMaiusculas('paula')"
   ]
  }
 ],
 "metadata": {
  "kernelspec": {
   "display_name": "Python 3",
   "language": "python",
   "name": "python3"
  },
  "language_info": {
   "codemirror_mode": {
    "name": "ipython",
    "version": 3
   },
   "file_extension": ".py",
   "mimetype": "text/x-python",
   "name": "python",
   "nbconvert_exporter": "python",
   "pygments_lexer": "ipython3",
   "version": "3.11.2"
  }
 },
 "nbformat": 4,
 "nbformat_minor": 2
}
