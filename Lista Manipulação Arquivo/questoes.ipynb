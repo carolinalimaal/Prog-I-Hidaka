{
 "cells": [
  {
   "cell_type": "code",
   "execution_count": null,
   "metadata": {},
   "outputs": [],
   "source": [
    "def lerDataTran():\n",
    "    with open('datatran2020.csv', 'r', encoding='utf-8') as arquivo: # Abre o arquivo.\n",
    "        data = [linha.split(',') for linha in arquivo] # 'Data' é uma lista com listas que contêm cada linha da planilha.\n",
    "        nomeColuna = data[0] # A primeira linha da planilha é o nome de cada coluna.\n",
    "        bd = {}\n",
    "        for idx, coluna in enumerate(nomeColuna): \n",
    "            bd[coluna] = [item[idx] for item in data[1:]] \n",
    "            \"\"\" idx: indice; coluna: nome de cada coluna da planilha\n",
    "                Organiza a planilha num dicionário, onde cada chave é uma coluna e \n",
    "                o valor é uma lista contendo todos os itens correspondentes aquela coluna.\"\"\"\n",
    "    return bd\n",
    "\n",
    "def colunas():\n",
    "    with open('datatran2020.csv', 'r', encoding='utf-8') as arquivo:\n",
    "        data = [linha.split(',') for linha in arquivo]\n",
    "        print(*data[0], sep='\\n')\n",
    "\n"
   ]
  },
  {
   "cell_type": "code",
   "execution_count": 2,
   "metadata": {},
   "outputs": [
    {
     "data": {
      "text/plain": [
       "{'Amanhecer', 'Anoitecer', 'Plena Noite', 'Pleno dia'}"
      ]
     },
     "execution_count": 2,
     "metadata": {},
     "output_type": "execute_result"
    }
   ],
   "source": [
    "#Questão 01\n",
    "def questao01():\n",
    "    datatran = lerDataTran() # Constrói o dicionário\n",
    "    fase_dia = datatran['fase_dia'] # Pega somente a coluna 'fase_dia' do dicionário\n",
    "    return set(fase_dia) # Retorna somente os valores distintos da coluna 'fase_dia'\n",
    "\n",
    "questao01()"
   ]
  },
  {
   "cell_type": "code",
   "execution_count": 3,
   "metadata": {},
   "outputs": [
    {
     "data": {
      "text/plain": [
       "{'Plena Noite': 22691,\n",
       " 'Amanhecer': 2912,\n",
       " 'Pleno dia': 34345,\n",
       " 'Anoitecer': 3499}"
      ]
     },
     "execution_count": 3,
     "metadata": {},
     "output_type": "execute_result"
    }
   ],
   "source": [
    "#Questão 02\n",
    "def questao02():\n",
    "    datatran = lerDataTran() # Constrói o dicionário\n",
    "    fase_dia = datatran['fase_dia'] # Pega somente a coluna 'fase_dia' do dicionário\n",
    "    frequenciaAcidentes = {}\n",
    "    for item in fase_dia: # Calcular a frequência\n",
    "        if item in frequenciaAcidentes:\n",
    "            frequenciaAcidentes[item] += 1\n",
    "        else:\n",
    "            frequenciaAcidentes[item] = 1\n",
    "    return frequenciaAcidentes\n",
    "\n",
    "questao02()"
   ]
  },
  {
   "cell_type": "code",
   "execution_count": 4,
   "metadata": {},
   "outputs": [
    {
     "data": {
      "text/plain": [
       "{'TO': 595,\n",
       " 'RJ': 4222,\n",
       " 'SC': 7217,\n",
       " 'RO': 1485,\n",
       " 'PR': 7168,\n",
       " 'AL': 628,\n",
       " 'RS': 4176,\n",
       " 'PE': 2557,\n",
       " 'MT': 2189,\n",
       " 'BA': 3443,\n",
       " 'AP': 155,\n",
       " 'GO': 3226,\n",
       " 'DF': 1040,\n",
       " 'SP': 4040,\n",
       " 'PB': 1401,\n",
       " 'PI': 1200,\n",
       " 'MG': 8363,\n",
       " 'PA': 959,\n",
       " 'RN': 1333,\n",
       " 'MS': 1539,\n",
       " 'CE': 1569,\n",
       " 'MA': 1151,\n",
       " 'ES': 2530,\n",
       " 'AC': 300,\n",
       " 'SE': 574,\n",
       " 'RR': 250,\n",
       " 'AM': 137}"
      ]
     },
     "execution_count": 4,
     "metadata": {},
     "output_type": "execute_result"
    }
   ],
   "source": [
    "#Questão 03\n",
    "def questao03():\n",
    "    datatran = lerDataTran() # Constrói o dicionário\n",
    "    uf = datatran['uf'] # Pega somente a coluna 'uf' do dicionário\n",
    "    frequenciaAcidentes = {}\n",
    "    for item in uf: # Calcular a frequência\n",
    "        if item in frequenciaAcidentes:\n",
    "            frequenciaAcidentes[item] += 1\n",
    "        else:\n",
    "            frequenciaAcidentes[item] = 1\n",
    "    return frequenciaAcidentes\n",
    "\n",
    "questao03()\n"
   ]
  },
  {
   "cell_type": "code",
   "execution_count": 44,
   "metadata": {},
   "outputs": [
    {
     "data": {
      "text/plain": [
       "122"
      ]
     },
     "execution_count": 44,
     "metadata": {},
     "output_type": "execute_result"
    }
   ],
   "source": [
    "#Questão 04 \n",
    "def questao04():\n",
    "    datatran = lerDataTran()\n",
    "    uf = datatran['uf']\n",
    "    mortos = datatran['mortos']\n",
    "    numMortes = 0\n",
    "    for estado, numMortos in zip(uf, mortos):\n",
    "        if estado == 'PA':\n",
    "            numMortes += int(numMortos)\n",
    "    return numMortes\n",
    "\n",
    "questao04()"
   ]
  },
  {
   "cell_type": "code",
   "execution_count": 6,
   "metadata": {},
   "outputs": [
    {
     "data": {
      "text/plain": [
       "('PR', 'MG', 'SP')"
      ]
     },
     "execution_count": 6,
     "metadata": {},
     "output_type": "execute_result"
    }
   ],
   "source": [
    "#Questão 05\n",
    "def encontrarMaior(dict):\n",
    "    chaves = list(dict.keys())\n",
    "    maior = chaves[0]\n",
    "    for UF in dict:\n",
    "        if dict[UF] > dict[maior]:\n",
    "            maior = UF\n",
    "    dict = dict.pop(maior)\n",
    "    return maior\n",
    "\n",
    "def questao05():\n",
    "    datatran = lerDataTran()\n",
    "    uf = datatran['uf']\n",
    "    tipo_pista = datatran['tipo_pista']\n",
    "    frequenciaAcidentes = {}\n",
    "    for idx in range(len(uf)):\n",
    "        if tipo_pista[idx] == 'Dupla':\n",
    "            if uf[idx] in frequenciaAcidentes:\n",
    "                frequenciaAcidentes[uf[idx]] += 1\n",
    "            else:\n",
    "                frequenciaAcidentes[uf[idx]] = 1\n",
    "    maior1 = encontrarMaior(frequenciaAcidentes)\n",
    "    maior2 = encontrarMaior(frequenciaAcidentes)\n",
    "    maior3 = encontrarMaior(frequenciaAcidentes)\n",
    "    return maior1, maior2, maior3\n",
    "\n",
    "questao05()\n",
    "        "
   ]
  },
  {
   "cell_type": "code",
   "execution_count": 7,
   "metadata": {},
   "outputs": [
    {
     "data": {
      "text/plain": [
       "27033"
      ]
     },
     "execution_count": 7,
     "metadata": {},
     "output_type": "execute_result"
    }
   ],
   "source": [
    "#Questão 06\n",
    "def questao06():\n",
    "    datatran = lerDataTran()\n",
    "    feridos = datatran['feridos']\n",
    "    ilesos = datatran['ilesos']\n",
    "    cont = 0\n",
    "    for ferido, ileso in zip(feridos, ilesos):\n",
    "        if ferido > ileso:\n",
    "            cont += 1\n",
    "    return cont\n",
    "\n",
    "questao06()"
   ]
  },
  {
   "cell_type": "code",
   "execution_count": 8,
   "metadata": {},
   "outputs": [],
   "source": [
    "#Questão 07\n",
    "def questao07():\n",
    "    datatran = lerDataTran()\n",
    "    uf = datatran['uf']\n",
    "    regiaoNorte = ['PA', 'AM', 'AC', 'RR', 'RO', 'TO', 'AP' ]\n",
    "    with open('datatran2020.csv', 'r', encoding='utf-8') as arquivo:\n",
    "        arquivoLido = [linha.split(',') for linha in arquivo]\n",
    "        for estado, linha in zip(uf, arquivoLido[1:]):\n",
    "            if estado in regiaoNorte:\n",
    "                with open('acidentesRegiaoNorte.csv', 'a', encoding='utf-8') as resposta:\n",
    "                    resposta.write(f'{linha}\\n')\n",
    "\n",
    "questao07()"
   ]
  },
  {
   "cell_type": "code",
   "execution_count": 9,
   "metadata": {},
   "outputs": [
    {
     "data": {
      "text/plain": [
       "399"
      ]
     },
     "execution_count": 9,
     "metadata": {},
     "output_type": "execute_result"
    }
   ],
   "source": [
    "#Questão 08\n",
    "def questao08():\n",
    "    cont = 0\n",
    "    with open('datatran2020.csv', 'r', encoding='utf-8') as arquivo:\n",
    "        arquivoLido = [linha.split(',') for linha in arquivo]\n",
    "        for registro in arquivoLido:\n",
    "            for dado in registro:\n",
    "                if dado in ['', ' ', '\\n']:\n",
    "                    cont += 1\n",
    "    return cont\n",
    "\n",
    "questao08()\n"
   ]
  },
  {
   "cell_type": "code",
   "execution_count": 25,
   "metadata": {},
   "outputs": [
    {
     "name": "stdout",
     "output_type": "stream",
     "text": [
      "0\n",
      "0\n",
      "0\n",
      "0\n",
      "0\n",
      "0\n",
      "0\n",
      "0\n",
      "0\n",
      "0\n",
      "0\n",
      "0\n",
      "0\n",
      "0\n",
      "0\n",
      "0\n",
      "0\n",
      "0\n",
      "0\n",
      "0\n",
      "0\n",
      "0\n",
      "0\n",
      "0\n",
      "0\n",
      "0\n",
      "0\n",
      "0\n",
      "0\n",
      "399\n"
     ]
    }
   ],
   "source": [
    "#Questão 09\n",
    "def questao09():\n",
    "    nulos = 0\n",
    "    datatran = lerDataTran()\n",
    "    chavesColunas = list(datatran.keys())\n",
    "    for coluna in chavesColunas:\n",
    "        for elemento in datatran[coluna]:\n",
    "            if elemento == '\\n':\n",
    "                nulos += 1\n",
    "        print(nulos)\n",
    "\n",
    "questao09()"
   ]
  },
  {
   "cell_type": "code",
   "execution_count": 42,
   "metadata": {},
   "outputs": [
    {
     "data": {
      "text/plain": [
       "[('TO', '44')]"
      ]
     },
     "execution_count": 42,
     "metadata": {},
     "output_type": "execute_result"
    }
   ],
   "source": [
    "#Questão 10\n",
    "def questao10():\n",
    "    datatran = lerDataTran()\n",
    "    uf = datatran['uf']\n",
    "    feridos = datatran['feridos']\n",
    "    maior = 0\n",
    "    listaUfMaiorNumeroFeridos = []\n",
    "    for numFeridos in feridos:\n",
    "        maior = (maior + int(numFeridos) + abs(maior - int(numFeridos))) // 2\n",
    "    for estado, numFeridos in zip(uf, feridos):\n",
    "        if int(numFeridos) == maior:\n",
    "            listaUfMaiorNumeroFeridos.append((estado, numFeridos))\n",
    "    return listaUfMaiorNumeroFeridos\n",
    "\n",
    "questao10()"
   ]
  },
  {
   "cell_type": "code",
   "execution_count": 65,
   "metadata": {},
   "outputs": [
    {
     "data": {
      "text/plain": [
       "{'RO': [0.05518169582772544, 1.0908479138627187, 1.01278600269179],\n",
       " 'SE': [0.07304347826086957, 1.128695652173913, 0.8991304347826087],\n",
       " 'SC': [0.05264616237184816, 1.14436131892491, 0.9405652535328346],\n",
       " 'AM': [0.11594202898550725, 1.4130434782608696, 1.065217391304348],\n",
       " 'AP': [0.03205128205128205, 1.3525641025641026, 0.9358974358974359],\n",
       " 'RR': [0.10756972111553785, 1.0796812749003983, 0.9960159362549801],\n",
       " 'PI': [0.13238967527060783, 1.0524562864279767, 0.890924229808493],\n",
       " 'AL': [0.13036565977742448, 1.1033386327503976, 0.9093799682034976],\n",
       " 'MG': [0.0857245337159254, 1.2455762792922047, 0.8879722620755619],\n",
       " 'SP': [0.05939123979213066, 1.042316258351893, 0.9977728285077951],\n",
       " 'PB': [0.07346647646219687, 1.0898716119828815, 0.8302425106990015],\n",
       " 'DF': [0.037463976945244955, 1.0566762728146013, 1.138328530259366],\n",
       " 'MA': [0.21180555555555555, 1.1197916666666667, 0.9800347222222222],\n",
       " 'MS': [0.09025974025974026, 1.1051948051948053, 0.9668831168831169],\n",
       " 'MT': [0.10593607305936073, 1.0666666666666667, 0.9735159817351599],\n",
       " 'TO': [0.1644295302013423, 1.1728187919463087, 0.9446308724832215],\n",
       " 'RJ': [0.0644091877811982, 1.1120056831636278, 1.0163390954297893],\n",
       " 'BA': [0.14721254355400698, 1.1742160278745644, 0.9779326364692218],\n",
       " 'GO': [0.08397892779671522, 1.1533932444995352, 1.0145646110938953],\n",
       " 'PA': [0.12708333333333333, 1.115625, 1.0625],\n",
       " 'RS': [0.05649988029686378, 1.1436437634666028, 1.0790040699066314],\n",
       " 'RN': [0.07496251874062969, 1.075712143928036, 0.9152923538230885],\n",
       " 'PR': [0.07337146045473567, 1.0373831775700935, 0.9605244804017297],\n",
       " 'AC': [0.04318936877076412, 1.1162790697674418, 0.8372093023255814],\n",
       " 'CE': [0.11210191082802548, 1.1171974522292993, 0.9050955414012739],\n",
       " 'PE': [0.12392494136043784, 1.0480844409695074, 0.9116497263487099],\n",
       " 'ES': [0.05610430659818254, 1.172263927301462, 0.8328723824575267]}"
      ]
     },
     "execution_count": 65,
     "metadata": {},
     "output_type": "execute_result"
    }
   ],
   "source": [
    "#Questão 11\n",
    "def questao11():\n",
    "    datatran = lerDataTran()\n",
    "    uf, mortos, feridos, ilesos = datatran['uf'], datatran[ 'mortos'], datatran['feridos'], datatran['ilesos']\n",
    "    ufDiferentes = set(uf)\n",
    "    bd = {}\n",
    "    for estado in ufDiferentes:\n",
    "        numero_m, numero_f, numero_i, cont = 0, 0, 0, 1\n",
    "        for ufs, numMortos, numFeridos, numIlesos in zip(uf, mortos, feridos, ilesos):\n",
    "            if ufs == estado:\n",
    "                cont += 1\n",
    "                numero_m += int(numMortos)\n",
    "                numero_f += int(numFeridos)\n",
    "                numero_i += int(numIlesos)\n",
    "            if estado in bd:\n",
    "                bd[estado] = [numero_m/cont, numero_f/cont, numero_i/cont, ]\n",
    "            else:\n",
    "                bd[estado] = [numero_m, numero_f, numero_i]\n",
    "    return bd\n",
    "\n",
    "questao11()"
   ]
  },
  {
   "cell_type": "code",
   "execution_count": 85,
   "metadata": {},
   "outputs": [
    {
     "data": {
      "text/plain": [
       "('SC', 3884)"
      ]
     },
     "execution_count": 85,
     "metadata": {},
     "output_type": "execute_result"
    }
   ],
   "source": [
    "#Questão 12 - Excluindo MG, qual a UF em aconteceu o maior número de acidentes em rodovia simples?\n",
    "def questao12():\n",
    "    datatran= lerDataTran()\n",
    "    uf = datatran['uf']\n",
    "    ufDiferentes = set(uf)\n",
    "    ufDiferentes.remove('MG')\n",
    "    tipo_pista = datatran['tipo_pista']\n",
    "    bd = {}\n",
    "\n",
    "    for ufs, pista in zip(uf, tipo_pista):\n",
    "        if ufs in ufDiferentes and pista == 'Simples':\n",
    "            if ufs in bd:\n",
    "                bd[ufs] += 1\n",
    "            else:\n",
    "                bd[ufs] = 1\n",
    "                \n",
    "    estados = list(bd.keys())\n",
    "    maior, ufMaior = 0, 0\n",
    "    for estado in estados:\n",
    "        if bd[estado] > maior:\n",
    "            maior = bd[estado]\n",
    "            ufMaior = estado\n",
    "\n",
    "    return ufMaior, maior\n",
    "\n",
    "\n",
    "questao12()"
   ]
  },
  {
   "cell_type": "code",
   "execution_count": 8,
   "metadata": {},
   "outputs": [],
   "source": [
    "#Questão 13\n",
    "def questao13():\n",
    "    with open('datatran2020.csv', 'r', encoding='utf-8') as arquivo:\n",
    "        linhasPlanilha = [linha.split(',') for linha in arquivo]\n",
    "        for linha in linhasPlanilha[1:]:\n",
    "            dia = linha[1][8:10]\n",
    "            mes = linha[1][5:7]\n",
    "            ano = linha[1][:4]\n",
    "            data_nova = f'{dia}-{mes}-{ano}'\n",
    "            with open('datas_corrigidas2020.csv', 'a', encoding='utf-8') as resposta:\n",
    "                resposta.write(f\"\"\"{linha[0]},{data_nova},{linha[3]},{linha[4]},{linha[5]},{linha[6]},{linha[7]},{linha[8]},{linha[9]},{linha[10]},{linha[11]},{linha[12]},{linha[13]},{linha[14]},{linha[15]},{linha[16]}\\n\"\"\")\n",
    "            \n",
    "\n",
    "questao13()"
   ]
  }
 ],
 "metadata": {
  "kernelspec": {
   "display_name": "Python 3",
   "language": "python",
   "name": "python3"
  },
  "language_info": {
   "codemirror_mode": {
    "name": "ipython",
    "version": 3
   },
   "file_extension": ".py",
   "mimetype": "text/x-python",
   "name": "python",
   "nbconvert_exporter": "python",
   "pygments_lexer": "ipython3",
   "version": "3.11.2"
  }
 },
 "nbformat": 4,
 "nbformat_minor": 2
}
