{
 "cells": [
  {
   "cell_type": "code",
   "execution_count": 60,
   "metadata": {},
   "outputs": [],
   "source": [
    "def lerDataTran():\n",
    "    with open('datatran2020.csv', 'r', encoding='utf-8') as arquivo: # Abre o arquivo.\n",
    "        data = [linha.split(',') for linha in arquivo] # 'Data' é uma lista com listas que contêm cada linha da planilha.\n",
    "        nomeColuna = data[0] # A primeira linha da planilha é o nome de cada coluna.\n",
    "        bd = {}\n",
    "        for idx, coluna in enumerate(nomeColuna): \n",
    "            bd[coluna] = [item[idx] for item in data[1:]] \n",
    "            \"\"\" idx: indice; coluna: nome de cada coluna da planilha\n",
    "                Organiza a planilha num dicionário, onde cada chave é uma coluna e \n",
    "                o valor é uma lista contendo todos os itens correspondentes aquela coluna.\"\"\"\n",
    "    return bd\n",
    "\n",
    "def colunas():\n",
    "    with open('datatran2020.csv', 'r', encoding='utf-8') as arquivo:\n",
    "        data = [linha.split(',') for linha in arquivo]\n",
    "        print(*data[0], sep='\\n')\n",
    "\n"
   ]
  },
  {
   "cell_type": "code",
   "execution_count": 61,
   "metadata": {},
   "outputs": [
    {
     "data": {
      "text/plain": [
       "{'Amanhecer', 'Anoitecer', 'Plena Noite', 'Pleno dia'}"
      ]
     },
     "execution_count": 61,
     "metadata": {},
     "output_type": "execute_result"
    }
   ],
   "source": [
    "#Questão 01\n",
    "def questao01():\n",
    "    datatran = lerDataTran() # Constrói o dicionário\n",
    "    fase_dia = datatran['fase_dia'] # Pega somente a coluna 'fase_dia' do dicionário\n",
    "    return set(fase_dia) # Retorna somente os valores distintos da coluna 'fase_dia'\n",
    "\n",
    "questao01()"
   ]
  },
  {
   "cell_type": "code",
   "execution_count": 62,
   "metadata": {},
   "outputs": [
    {
     "data": {
      "text/plain": [
       "{'Plena Noite': 22691,\n",
       " 'Amanhecer': 2912,\n",
       " 'Pleno dia': 34345,\n",
       " 'Anoitecer': 3499}"
      ]
     },
     "execution_count": 62,
     "metadata": {},
     "output_type": "execute_result"
    }
   ],
   "source": [
    "#Questão 02\n",
    "def questao02():\n",
    "    datatran = lerDataTran() # Constrói o dicionário\n",
    "    fase_dia = datatran['fase_dia'] # Pega somente a coluna 'fase_dia' do dicionário\n",
    "    frequenciaAcidentes = {}\n",
    "    for item in fase_dia: # Calcular a frequência\n",
    "        if item in frequenciaAcidentes:\n",
    "            frequenciaAcidentes[item] += 1\n",
    "        else:\n",
    "            frequenciaAcidentes[item] = 1\n",
    "    return frequenciaAcidentes\n",
    "\n",
    "questao02()"
   ]
  },
  {
   "cell_type": "code",
   "execution_count": 63,
   "metadata": {},
   "outputs": [
    {
     "data": {
      "text/plain": [
       "{'TO': 595,\n",
       " 'RJ': 4222,\n",
       " 'SC': 7217,\n",
       " 'RO': 1485,\n",
       " 'PR': 7168,\n",
       " 'AL': 628,\n",
       " 'RS': 4176,\n",
       " 'PE': 2557,\n",
       " 'MT': 2189,\n",
       " 'BA': 3443,\n",
       " 'AP': 155,\n",
       " 'GO': 3226,\n",
       " 'DF': 1040,\n",
       " 'SP': 4040,\n",
       " 'PB': 1401,\n",
       " 'PI': 1200,\n",
       " 'MG': 8363,\n",
       " 'PA': 959,\n",
       " 'RN': 1333,\n",
       " 'MS': 1539,\n",
       " 'CE': 1569,\n",
       " 'MA': 1151,\n",
       " 'ES': 2530,\n",
       " 'AC': 300,\n",
       " 'SE': 574,\n",
       " 'RR': 250,\n",
       " 'AM': 137}"
      ]
     },
     "execution_count": 63,
     "metadata": {},
     "output_type": "execute_result"
    }
   ],
   "source": [
    "#Questão 03\n",
    "def questao03():\n",
    "    datatran = lerDataTran() # Constrói o dicionário\n",
    "    uf = datatran['uf'] # Pega somente a coluna 'uf' do dicionário\n",
    "    frequenciaAcidentes = {}\n",
    "    for item in uf: # Calcular a frequência\n",
    "        if item in frequenciaAcidentes:\n",
    "            frequenciaAcidentes[item] += 1\n",
    "        else:\n",
    "            frequenciaAcidentes[item] = 1\n",
    "    return frequenciaAcidentes\n",
    "\n",
    "questao03()\n"
   ]
  },
  {
   "cell_type": "code",
   "execution_count": 69,
   "metadata": {},
   "outputs": [
    {
     "data": {
      "text/plain": [
       "122"
      ]
     },
     "execution_count": 69,
     "metadata": {},
     "output_type": "execute_result"
    }
   ],
   "source": [
    "#Questão 04 \n",
    "def questao04():\n",
    "    datatran = lerDataTran()\n",
    "    uf = datatran['uf']\n",
    "    mortos = datatran['mortos']\n",
    "    numMortes = 0\n",
    "    for idx in range(len(uf)):\n",
    "        if uf[idx] == 'PA':\n",
    "            numMortes += int(mortos[idx])\n",
    "    return numMortes\n",
    "\n",
    "questao04()"
   ]
  },
  {
   "cell_type": "code",
   "execution_count": 99,
   "metadata": {},
   "outputs": [
    {
     "data": {
      "text/plain": [
       "('PR', 'MG', 'SP')"
      ]
     },
     "execution_count": 99,
     "metadata": {},
     "output_type": "execute_result"
    }
   ],
   "source": [
    "#Questão 05\n",
    "def encontrarMaior(dict):\n",
    "    chaves = list(dict.keys())\n",
    "    maior = chaves[0]\n",
    "    for UF in dict:\n",
    "        if dict[UF] > dict[maior]:\n",
    "            maior = UF\n",
    "    dict = dict.pop(maior)\n",
    "    return maior\n",
    "\n",
    "def questao05():\n",
    "    datatran = lerDataTran()\n",
    "    uf = datatran['uf']\n",
    "    tipo_pista = datatran['tipo_pista']\n",
    "    frequenciaAcidentes = {}\n",
    "    for idx in range(len(uf)):\n",
    "        if tipo_pista[idx] == 'Dupla':\n",
    "            if uf[idx] in frequenciaAcidentes:\n",
    "                frequenciaAcidentes[uf[idx]] += 1\n",
    "            else:\n",
    "                frequenciaAcidentes[uf[idx]] = 1\n",
    "    maior1 = encontrarMaior(frequenciaAcidentes)\n",
    "    maior2 = encontrarMaior(frequenciaAcidentes)\n",
    "    maior3 = encontrarMaior(frequenciaAcidentes)\n",
    "    return maior1, maior2, maior3\n",
    "\n",
    "questao05()\n",
    "        "
   ]
  }
 ],
 "metadata": {
  "kernelspec": {
   "display_name": "Python 3",
   "language": "python",
   "name": "python3"
  },
  "language_info": {
   "codemirror_mode": {
    "name": "ipython",
    "version": 3
   },
   "file_extension": ".py",
   "mimetype": "text/x-python",
   "name": "python",
   "nbconvert_exporter": "python",
   "pygments_lexer": "ipython3",
   "version": "3.11.2"
  }
 },
 "nbformat": 4,
 "nbformat_minor": 2
}
