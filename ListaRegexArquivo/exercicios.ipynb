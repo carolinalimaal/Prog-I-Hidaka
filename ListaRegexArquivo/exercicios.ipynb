{
 "cells": [
  {
   "cell_type": "code",
   "execution_count": 25,
   "metadata": {},
   "outputs": [],
   "source": [
    "# Questão 01\n",
    "\n",
    "import re\n",
    "def verificarPalavras(arquivo):\n",
    "    with open(arquivo, 'r', encoding='utf-8') as arquivoLido:\n",
    "        for linhas in arquivoLido:\n",
    "            separarPalavras = (re.findall('[a-zA-Z]+', linhas))\n",
    "            for item in separarPalavras:\n",
    "                regexPre = re.search('^[aeiouAEIOU]', item) \n",
    "                regexSuf = re.search('[aeiouAEIOU]$', item)\n",
    "                if regexPre and regexSuf:\n",
    "                    with open('resultadoQuestão01.txt', 'a', encoding='utf-8') as arquivoEscrito:\n",
    "                        arquivoEscrito.write(f'{item}\\n')\n",
    "            \n",
    "verificarPalavras('Operadores.html')"
   ]
  },
  {
   "cell_type": "code",
   "execution_count": null,
   "metadata": {},
   "outputs": [],
   "source": [
    "# Questão 02\n"
   ]
  }
 ],
 "metadata": {
  "kernelspec": {
   "display_name": "Python 3",
   "language": "python",
   "name": "python3"
  },
  "language_info": {
   "codemirror_mode": {
    "name": "ipython",
    "version": 3
   },
   "file_extension": ".py",
   "mimetype": "text/x-python",
   "name": "python",
   "nbconvert_exporter": "python",
   "pygments_lexer": "ipython3",
   "version": "3.11.2"
  }
 },
 "nbformat": 4,
 "nbformat_minor": 2
}
