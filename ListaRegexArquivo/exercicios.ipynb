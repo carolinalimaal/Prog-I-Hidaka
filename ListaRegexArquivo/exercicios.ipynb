{
 "cells": [
  {
   "cell_type": "code",
   "execution_count": null,
   "metadata": {},
   "outputs": [],
   "source": [
    "#Questão 1\n",
    "import re\n",
    "\n",
    "def verificarPalavras(arquivo):\n",
    "    with open('C:\\Users\\PC\\Desktop\\Pasta da Carol\\UFPA\\2º Semestre\\Progamação I PDFs', 'r', encoding='utf-8') as arquivo:\n",
    "        for linhas in arquivo:\n",
    "            \n",
    "            regex = re.('^[aeiouAEIOU]$')"
   ]
  },
  {
   "cell_type": "code",
   "execution_count": 39,
   "metadata": {},
   "outputs": [
    {
     "name": "stdout",
     "output_type": "stream",
     "text": [
      "['Carolina', 'de', 'Lima', 'Alves']\n",
      "['ave', 'de', 'rapina']\n",
      "ave\n",
      "['eu', 'sou', 'o', 'homem', 'de', 'ferro']\n",
      "eu\n",
      "o\n",
      "['Olá', '', 'me', 'chamo', 'Ana']\n",
      "Ana\n"
     ]
    }
   ],
   "source": [
    "import re\n",
    "def verificarPalavras(arquivo):\n",
    "    with open(arquivo, 'r', encoding='utf-8') as arquivo:\n",
    "        for linhas in arquivo:\n",
    "            separarPalavras = re.split('[ ,.?!]', linhas)\n",
    "            separarPalavras[-1] = re.sub('\\n', '', separarPalavras[-1])\n",
    "            print(separarPalavras)\n",
    "            for item in separarPalavras:\n",
    "                regexPre = re.search('^[aeiouAEIOU]', item) \n",
    "                regexSuf = re.search('[aeiouAEIOU]$', item)\n",
    "                if regexPre and regexSuf:\n",
    "                         print(item)\n",
    "verificarPalavras('texto.txt')"
   ]
  }
 ],
 "metadata": {
  "kernelspec": {
   "display_name": "Python 3",
   "language": "python",
   "name": "python3"
  },
  "language_info": {
   "codemirror_mode": {
    "name": "ipython",
    "version": 3
   },
   "file_extension": ".py",
   "mimetype": "text/x-python",
   "name": "python",
   "nbconvert_exporter": "python",
   "pygments_lexer": "ipython3",
   "version": "3.11.2"
  }
 },
 "nbformat": 4,
 "nbformat_minor": 2
}
