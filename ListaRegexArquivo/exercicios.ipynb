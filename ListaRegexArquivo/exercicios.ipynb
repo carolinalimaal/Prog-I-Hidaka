{
 "cells": [
  {
   "cell_type": "code",
   "execution_count": 7,
   "metadata": {},
   "outputs": [
    {
     "name": "stdout",
     "output_type": "stream",
     "text": [
      "(2715, 'resultadoQuestão01.txt')\n"
     ]
    }
   ],
   "source": [
    "# Questão 01\n",
    "\n",
    "import re\n",
    "def verificarPalavras(arquivo):\n",
    "    cont = 0\n",
    "    with open(arquivo, 'r', encoding='utf-8') as arquivoLido:\n",
    "        for linha in arquivoLido:\n",
    "            separarPalavras = re.findall('[a-zA-Z]+', linha)\n",
    "            for item in separarPalavras:\n",
    "                regexPre = re.search('^[aeiouAEIOU]', item) \n",
    "                regexSuf = re.search('[aeiouAEIOU]$', item)\n",
    "                if regexPre and regexSuf:\n",
    "                    with open('resultadoQuestão01.txt', 'a', encoding='utf-8') as arquivoEscrito:\n",
    "                        arquivoEscrito.write(f'{item}\\n')\n",
    "                        cont += 1\n",
    "    return cont, 'resultadoQuestão01.txt'\n",
    "            \n",
    "teste = verificarPalavras('Operadores.html')\n",
    "print(teste)"
   ]
  },
  {
   "cell_type": "code",
   "execution_count": 77,
   "metadata": {},
   "outputs": [
    {
     "name": "stdout",
     "output_type": "stream",
     "text": [
      "([], 'resultadoQuestão02.txt')\n"
     ]
    }
   ],
   "source": [
    "# Questão 02\n",
    "\n",
    "import re\n",
    "\n",
    "def filtrarA(texto):\n",
    "    filtro = re.sub('[áãâàÁÃÂÀ]', 'a', texto)\n",
    "    if texto != filtro:\n",
    "        return filtro\n",
    "    \n",
    "def filtrarE(texto):\n",
    "    filtro = re.sub('[éèêÉÈÊ]', 'e', texto)\n",
    "    if texto != filtro:\n",
    "        return filtro\n",
    "    \n",
    "def filtrarI(texto):\n",
    "    filtro = re.sub('[íìîÎÌÍ]', 'i', texto)\n",
    "    if texto != filtro:\n",
    "        return filtro\n",
    "    \n",
    "def filtrarO(texto):\n",
    "    filtro = re.sub('[óòôõÕÔÒÓ]', 'o', texto)\n",
    "    if texto != filtro:\n",
    "        return filtro\n",
    "\n",
    "def filtrarU(texto):\n",
    "    filtro = re.sub('[úùûÛÙÚ]', 'u', texto)\n",
    "    if texto != filtro:\n",
    "        return filtro\n",
    "    \n",
    "def filtrarÇ(texto):\n",
    "    filtro = re.sub('[çÇ]', 'c', texto)\n",
    "    if texto != filtro:\n",
    "        return filtro\n",
    "\n",
    "def removerAcentos(arquivo):\n",
    "    listaPalavrasModificadas = []\n",
    "    with open(arquivo, 'r', encoding='utf-8') as arquivoLido:\n",
    "        for linha in arquivoLido:\n",
    "            separarPalavras = re.findall('[\\w]+', linha)\n",
    "            for palavra in separarPalavras:\n",
    "                removerAcento_Ç =   filtrarA(palavra) or\\\n",
    "                                    filtrarE(palavra) or\\\n",
    "                                    filtrarI(palavra) or\\\n",
    "                                    filtrarO(palavra) or\\\n",
    "                                    filtrarU(palavra) or\\\n",
    "                                    filtrarÇ(palavra)\n",
    "                if removerAcento_Ç:\n",
    "                    with open('resultadoQuestão02.txt', 'a', encoding='utf-8') as arquivoEscrito:\n",
    "                        arquivoEscrito.write(f'{removerAcento_Ç}\\n')\n",
    "                        listaPalavrasModificadas.append((palavra, removerAcento_Ç))\n",
    "    return listaPalavrasModificadas, 'resultadoQuestão02.txt'\n",
    "\n",
    "teste = removerAcentos('Operadores.html')\n",
    "print(teste)"
   ]
  },
  {
   "cell_type": "code",
   "execution_count": 79,
   "metadata": {},
   "outputs": [
    {
     "name": "stdout",
     "output_type": "stream",
     "text": [
      "(7312, 'resultadoQuestão03.txt')\n"
     ]
    }
   ],
   "source": [
    "#Questão 03\n",
    "\n",
    "import re\n",
    "def encontrarPeloMenos3Vogais(arquivo):\n",
    "    cont = 0\n",
    "    with open(arquivo, 'r', encoding='utf-8') as arquivoLido:\n",
    "        for linha in arquivoLido:\n",
    "            separarPalavras = re.findall('[\\w]+', linha)\n",
    "            for palavra in separarPalavras:\n",
    "                procurar3Vogais = re.search('.*[aeiouAEIOU].*[aeiouAEIOU].*[aeiouAEIOU]', palavra)\n",
    "                if procurar3Vogais:\n",
    "                    with open('resultadoQuestão03.txt', 'a', encoding='utf-8') as arquivoEscrito:\n",
    "                        arquivoEscrito.write(f'{procurar3Vogais}\\n')\n",
    "                        cont += 1\n",
    "    return cont, 'resultadoQuestão03.txt'\n",
    "\n",
    "teste = encontrarPeloMenos3Vogais('Operadores.html')\n",
    "print(teste)"
   ]
  },
  {
   "cell_type": "code",
   "execution_count": 128,
   "metadata": {},
   "outputs": [
    {
     "data": {
      "text/plain": [
       "'resultadoQuestão04.txt'"
      ]
     },
     "execution_count": 128,
     "metadata": {},
     "output_type": "execute_result"
    }
   ],
   "source": [
    "#Questão 04\n",
    "import re\n",
    "\n",
    "def extrairConteudoDaTag(arquivo):\n",
    "    with open(arquivo, 'r', encoding='utf-8') as arquivoLido:\n",
    "        for linha in arquivoLido:\n",
    "            conteudo = re.search('(?<=<td>).+(?=</td>)', linha)\n",
    "            if conteudo:\n",
    "                with open('resultadoQuestão04.txt', 'a', encoding='utf-8') as arquivoEscrito:\n",
    "                    arquivoEscrito.write(f'{conteudo.group()}\\n')\n",
    "    return 'resultadoQuestão04.txt'\n",
    "\n",
    "extrairConteudoDaTag('Operadores.html')"
   ]
  },
  {
   "cell_type": "code",
   "execution_count": null,
   "metadata": {},
   "outputs": [],
   "source": [
    "#Questão 05\n",
    "import re\n",
    "\n",
    "def removerPontuacao(arquivo):\n",
    "    dictPalavras = {}\n",
    "    with open(arquivo, 'r', encoding='utf-8') as arquivoLido:\n",
    "        for linha in arquivoLido:\n",
    "            textoSemPontuacao = re.sub('[^\\w\\s]+', '', linha)\n",
    "            palavras = textoSemPontuacao.lower().split()\n",
    "            for item in palavras:\n",
    "                if item in dictPalavras:\n",
    "                    dictPalavras[item] += 1\n",
    "                else:\n",
    "                    dictPalavras[item] = 1\n",
    "    return dictPalavras\n",
    "\n",
    "removerPontuacao('Operadores.html')"
   ]
  },
  {
   "cell_type": "code",
   "execution_count": 153,
   "metadata": {},
   "outputs": [
    {
     "data": {
      "text/plain": [
       "(1, 1, True)"
      ]
     },
     "execution_count": 153,
     "metadata": {},
     "output_type": "execute_result"
    }
   ],
   "source": [
    "#Questão 06\n",
    "import re\n",
    "\n",
    "def contadorTags(arquivo, tag):\n",
    "    abrindo, fechando = 0, 0\n",
    "    with open(arquivo, 'r', encoding='utf-8') as arquivoLido:\n",
    "        for linha in arquivoLido:\n",
    "            encontrarTagAbrindo = re.search(f'(?<=<{tag}).*>', linha)\n",
    "            if encontrarTagAbrindo:\n",
    "                abrindo += 1\n",
    "            encontrarTagFechando = re.search(f'(?=</{tag}>)', linha)\n",
    "            if encontrarTagFechando:\n",
    "                fechando += 1\n",
    "    if abrindo == fechando:\n",
    "        return abrindo, fechando, True\n",
    "    return abrindo, fechando, False\n",
    "\n",
    "contadorTags('Operadores.html', 'title')"
   ]
  }
 ],
 "metadata": {
  "kernelspec": {
   "display_name": "Python 3",
   "language": "python",
   "name": "python3"
  },
  "language_info": {
   "codemirror_mode": {
    "name": "ipython",
    "version": 3
   },
   "file_extension": ".py",
   "mimetype": "text/x-python",
   "name": "python",
   "nbconvert_exporter": "python",
   "pygments_lexer": "ipython3",
   "version": "3.11.2"
  }
 },
 "nbformat": 4,
 "nbformat_minor": 2
}
